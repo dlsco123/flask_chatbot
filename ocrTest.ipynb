{
 "cells": [
  {
   "cell_type": "code",
   "execution_count": null,
   "metadata": {},
   "outputs": [],
   "source": [
    "# !pip install paddlepaddle\n",
    "# !pip install paddleocr"
   ]
  },
  {
   "cell_type": "code",
   "execution_count": 9,
   "metadata": {},
   "outputs": [
    {
     "name": "stdout",
     "output_type": "stream",
     "text": [
      "[2023/08/11 14:54:45] ppocr DEBUG: Namespace(help='==SUPPRESS==', use_gpu=True, use_xpu=False, use_npu=False, ir_optim=True, use_tensorrt=False, min_subgraph_size=15, precision='fp32', gpu_mem=500, gpu_id=0, image_dir=None, page_num=0, det_algorithm='DB', det_model_dir='C:\\\\Users\\\\user/.paddleocr/whl\\\\det\\\\ml\\\\Multilingual_PP-OCRv3_det_infer', det_limit_side_len=960, det_limit_type='max', det_box_type='quad', det_db_thresh=0.3, det_db_box_thresh=0.6, det_db_unclip_ratio=1.5, max_batch_size=10, use_dilation=False, det_db_score_mode='fast', det_east_score_thresh=0.8, det_east_cover_thresh=0.1, det_east_nms_thresh=0.2, det_sast_score_thresh=0.5, det_sast_nms_thresh=0.2, det_pse_thresh=0, det_pse_box_thresh=0.85, det_pse_min_area=16, det_pse_scale=1, scales=[8, 16, 32], alpha=1.0, beta=1.0, fourier_degree=5, rec_algorithm='SVTR_LCNet', rec_model_dir='C:\\\\Users\\\\user/.paddleocr/whl\\\\rec\\\\korean\\\\korean_PP-OCRv4_rec_infer', rec_image_inverse=True, rec_image_shape='3, 48, 320', rec_batch_num=6, max_text_length=25, rec_char_dict_path='c:\\\\Users\\\\user\\\\miniforge3\\\\envs\\\\ass\\\\lib\\\\site-packages\\\\paddleocr\\\\ppocr\\\\utils\\\\dict\\\\korean_dict.txt', use_space_char=True, vis_font_path='./doc/fonts/simfang.ttf', drop_score=0.5, e2e_algorithm='PGNet', e2e_model_dir=None, e2e_limit_side_len=768, e2e_limit_type='max', e2e_pgnet_score_thresh=0.5, e2e_char_dict_path='./ppocr/utils/ic15_dict.txt', e2e_pgnet_valid_set='totaltext', e2e_pgnet_mode='fast', use_angle_cls=False, cls_model_dir='C:\\\\Users\\\\user/.paddleocr/whl\\\\cls\\\\ch_ppocr_mobile_v2.0_cls_infer', cls_image_shape='3, 48, 192', label_list=['0', '180'], cls_batch_num=6, cls_thresh=0.9, enable_mkldnn=False, cpu_threads=10, use_pdserving=False, warmup=False, sr_model_dir=None, sr_image_shape='3, 32, 128', sr_batch_num=1, draw_img_save_dir='./inference_results', save_crop_res=False, crop_res_save_dir='./output', use_mp=False, total_process_num=1, process_id=0, benchmark=False, save_log_path='./log_output/', show_log=True, use_onnx=False, output='./output', table_max_len=488, table_algorithm='TableAttn', table_model_dir=None, merge_no_span_structure=True, table_char_dict_path=None, layout_model_dir=None, layout_dict_path=None, layout_score_threshold=0.5, layout_nms_threshold=0.5, kie_algorithm='LayoutXLM', ser_model_dir=None, re_model_dir=None, use_visual_backbone=True, ser_dict_path='../train_data/XFUND/class_list_xfun.txt', ocr_order_method=None, mode='structure', image_orientation=False, layout=True, table=True, ocr=True, recovery=False, use_pdf2docx_api=False, lang='korean', det=True, rec=True, type='ocr', ocr_version='PP-OCRv4', structure_version='PP-StructureV2')\n",
      "[2023/08/11 14:54:56] ppocr DEBUG: dt_boxes num : 13, elapse : 0.2421400547027588\n",
      "[2023/08/11 14:54:56] ppocr DEBUG: rec_res num  : 13, elapse : 0.11329793930053711\n"
     ]
    },
    {
     "data": {
      "text/plain": [
       "[[[[[384.0, 186.0], [654.0, 183.0], [655.0, 271.0], [385.0, 273.0]],\n",
       "   ('D', 0.9445948004722595)],\n",
       "  [[[411.0, 304.0], [606.0, 304.0], [606.0, 390.0], [411.0, 390.0]],\n",
       "   ('JOB', 0.999239444732666)],\n",
       "  [[[144.0, 709.0], [337.0, 709.0], [337.0, 763.0], [144.0, 763.0]],\n",
       "   ('튀어나온', 0.9999750852584839)],\n",
       "  [[[352.0, 703.0], [409.0, 703.0], [409.0, 766.0], [352.0, 766.0]],\n",
       "   ('듯', 0.9997588992118835)],\n",
       "  [[[427.0, 710.0], [665.0, 710.0], [665.0, 762.0], [427.0, 762.0]],\n",
       "   ('튀어나오지', 0.9999352693557739)],\n",
       "  [[[686.0, 705.0], [794.0, 705.0], [794.0, 766.0], [686.0, 766.0]],\n",
       "   ('않은', 0.9999828934669495)],\n",
       "  [[[798.0, 707.0], [852.0, 707.0], [852.0, 763.0], [798.0, 763.0]],\n",
       "   ('듯', 0.9997212290763855)],\n",
       "  [[[92.0, 776.0], [328.0, 779.0], [327.0, 846.0], [92.0, 844.0]],\n",
       "   ('입체적인', 0.9998372793197632)],\n",
       "  [[[346.0, 778.0], [469.0, 778.0], [469.0, 847.0], [346.0, 847.0]],\n",
       "   ('제목', 0.9998067617416382)],\n",
       "  [[[491.0, 780.0], [725.0, 780.0], [725.0, 844.0], [491.0, 844.0]],\n",
       "   ('슬라이드', 0.9996176958084106)],\n",
       "  [[[749.0, 779.0], [924.0, 779.0], [924.0, 845.0], [749.0, 845.0]],\n",
       "   ('만들기', 0.9997943043708801)],\n",
       "  [[[841.0, 979.0], [870.0, 979.0], [870.0, 1008.0], [841.0, 1008.0]],\n",
       "   ('3:', 0.5039106011390686)],\n",
       "  [[[880.0, 980.0], [1013.0, 980.0], [1013.0, 1008.0], [880.0, 1008.0]],\n",
       "   ('IDCOOb', 0.9249320030212402)]]]"
      ]
     },
     "execution_count": 9,
     "metadata": {},
     "output_type": "execute_result"
    }
   ],
   "source": [
    "from paddleocr import PaddleOCR\n",
    "\n",
    "ocr = PaddleOCR(lang=\"korean\")\n",
    "\n",
    "img_path = \"C:/Users/user/Desktop/assign/assignment/views/uploads/5e66389e-d9cf-41e5-a8aa-9c56eee92eef.jpg\"\n",
    "result = ocr.ocr(img_path, cls=False)\n",
    "ocr_result = result[0]\n",
    "# text_results = [item[1][0] for item in ocr_result]\n",
    "# print(text_results)"
   ]
  }
 ],
 "metadata": {
  "kernelspec": {
   "display_name": "ass",
   "language": "python",
   "name": "python3"
  },
  "language_info": {
   "codemirror_mode": {
    "name": "ipython",
    "version": 3
   },
   "file_extension": ".py",
   "mimetype": "text/x-python",
   "name": "python",
   "nbconvert_exporter": "python",
   "pygments_lexer": "ipython3",
   "version": "3.10.12"
  },
  "orig_nbformat": 4
 },
 "nbformat": 4,
 "nbformat_minor": 2
}
